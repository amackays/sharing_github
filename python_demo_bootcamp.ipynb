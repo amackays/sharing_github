{
 "cells": [
  {
   "cell_type": "code",
   "execution_count": 7,
   "id": "e9779cf4-e1c1-4aaf-b6b7-3d5286775cc4",
   "metadata": {},
   "outputs": [
    {
     "name": "stdout",
     "output_type": "stream",
     "text": [
      "8\n",
      "Hello, World\n",
      "Aloha\n",
      "Aloha John\n",
      "My daughter is 5 years old.\n",
      "Next year she will be 6\n"
     ]
    }
   ],
   "source": [
    "#intro\n",
    "\n",
    "print(5 + 3)\n",
    "print('Hello, World')\n",
    "greeting = 'Aloha'\n",
    "print(greeting)\n",
    "neighbor = 'John'\n",
    "print(greeting, neighbor)\n",
    "age = 5\n",
    "print('My daughter is', age, 'years old.')\n",
    "print('Next year she will be', age + 1)"
   ]
  },
  {
   "cell_type": "code",
   "execution_count": 11,
   "id": "7e7a44a0-08f8-4861-9f5f-56f4644cf557",
   "metadata": {},
   "outputs": [
    {
     "name": "stdout",
     "output_type": "stream",
     "text": [
      "110.00000000000001\n",
      "my_float <class 'float'>\n",
      "my_integer <class 'int'>\n",
      "60.5 <class 'float'>\n"
     ]
    },
    {
     "ename": "TypeError",
     "evalue": "unsupported operand type(s) for +: 'float' and 'str'",
     "output_type": "error",
     "traceback": [
      "\u001b[0;31m---------------------------------------------------------------------------\u001b[0m",
      "\u001b[0;31mTypeError\u001b[0m                                 Traceback (most recent call last)",
      "Input \u001b[0;32mIn [11]\u001b[0m, in \u001b[0;36m<cell line: 14>\u001b[0;34m()\u001b[0m\n\u001b[1;32m     12\u001b[0m my_float_2 \u001b[38;5;241m=\u001b[39m \u001b[38;5;241m50.0\u001b[39m\n\u001b[1;32m     13\u001b[0m my_string \u001b[38;5;241m=\u001b[39m \u001b[38;5;124m'\u001b[39m\u001b[38;5;124mHello\u001b[39m\u001b[38;5;124m'\u001b[39m\n\u001b[0;32m---> 14\u001b[0m \u001b[38;5;28mprint\u001b[39m(\u001b[43mmy_float_2\u001b[49m\u001b[43m \u001b[49m\u001b[38;5;241;43m+\u001b[39;49m\u001b[43m \u001b[49m\u001b[43mmy_string\u001b[49m)\n",
      "\u001b[0;31mTypeError\u001b[0m: unsupported operand type(s) for +: 'float' and 'str'"
     ]
    }
   ],
   "source": [
    "#floats\n",
    "\n",
    "lb = 50.0\n",
    "kg = lb * 2.2\n",
    "print(kg)\n",
    "my_float = 50.5\n",
    "print(\"my_float\", type(my_float))\n",
    "my_integer = 10\n",
    "print(\"my_integer\", type(my_integer))\n",
    "float_plus_integer = my_float + my_integer\n",
    "print(float_plus_integer, type(float_plus_integer))\n",
    "my_float_2 = 50.0\n",
    "my_string = 'Hello'\n",
    "print(my_float_2 + my_string)"
   ]
  },
  {
   "cell_type": "code",
   "execution_count": 23,
   "id": "80900050-3177-4550-a961-946e2b98a237",
   "metadata": {},
   "outputs": [
    {
     "name": "stdout",
     "output_type": "stream",
     "text": [
      "P\n",
      "y\n",
      "t\n",
      "n\n",
      "n\n",
      "o\n",
      "Python\n",
      "hon\n",
      "Pyt\n",
      "Python\n",
      "hon\n",
      "Pyt\n",
      "Python\n",
      "Pto\n",
      "False\n",
      "True\n"
     ]
    }
   ],
   "source": [
    "#more strings\n",
    "\n",
    "name = 'Python'\n",
    "print(name[0]) #python is 0-indexed. inclusive start, exclusive end\n",
    "print(name[1])\n",
    "print(name[2])\n",
    "print(name[5]) #this is the sixth letter because python is 0-indexed.\n",
    "print(name[-1])\n",
    "print(name[-2])\n",
    "print(name[0:6]) #the slicing is exclusive - we say 0:6 because we want to slice until just after the last letter\n",
    "print(name[3:6])\n",
    "print(name[0:3])\n",
    "print(name[:]) #start and stop are optional\n",
    "print(name[3:])\n",
    "print(name[:3])\n",
    "print(name[0:6:1]) #notation for steps: [start:end:step]\n",
    "print(name[0:6:2])\n",
    "in_name = 'a' in name #see if letter exists in string\n",
    "print(in_name)\n",
    "not_in_name = 'a' not in name\n",
    "print(not_in_name)"
   ]
  },
  {
   "cell_type": "code",
   "execution_count": 27,
   "id": "79002674-4450-4609-9435-4b29c6da67ab",
   "metadata": {},
   "outputs": [
    {
     "name": "stdout",
     "output_type": "stream",
     "text": [
      "6\n",
      "6\n",
      "4\n",
      "pencil pencil\n",
      "5 pencil\n",
      "0 4\n"
     ]
    }
   ],
   "source": [
    "#assigning variables\n",
    "\n",
    "print(3 + 3)\n",
    "my_variable_name = 3 + 3\n",
    "print(my_variable_name)\n",
    "x = 6\n",
    "x = 4 #order matters\n",
    "print(x)\n",
    "x = y = 'pencil'\n",
    "print(x,y)\n",
    "x = 5\n",
    "print(x,y)\n",
    "a = 3\n",
    "b = a + 1\n",
    "a = 0\n",
    "print(a,b) #Python will use the value of that variable when the code is run"
   ]
  },
  {
   "cell_type": "code",
   "execution_count": 56,
   "id": "8d2d09b7-fda3-49de-ade6-9f929f114d7f",
   "metadata": {},
   "outputs": [
    {
     "name": "stdout",
     "output_type": "stream",
     "text": [
      "ACC\n",
      "CCA\n"
     ]
    },
    {
     "ename": "TypeError",
     "evalue": "'str' object does not support item assignment",
     "output_type": "error",
     "traceback": [
      "\u001b[0;31m---------------------------------------------------------------------------\u001b[0m",
      "\u001b[0;31mTypeError\u001b[0m                                 Traceback (most recent call last)",
      "Input \u001b[0;32mIn [56]\u001b[0m, in \u001b[0;36m<cell line: 11>\u001b[0;34m()\u001b[0m\n\u001b[1;32m      9\u001b[0m r3 \u001b[38;5;241m=\u001b[39m b3 \u001b[38;5;241m+\u001b[39m b2 \u001b[38;5;241m+\u001b[39m b1\n\u001b[1;32m     10\u001b[0m \u001b[38;5;28mprint\u001b[39m(r3)\n\u001b[0;32m---> 11\u001b[0m r3[\u001b[38;5;241m2\u001b[39m] \u001b[38;5;241m=\u001b[39m \u001b[38;5;124m'\u001b[39m\u001b[38;5;124mG\u001b[39m\u001b[38;5;124m'\u001b[39m \u001b[38;5;66;03m#can't modify the string!\u001b[39;00m\n\u001b[1;32m     12\u001b[0m old_r3 \u001b[38;5;241m=\u001b[39m r3 \u001b[38;5;66;03m#save current variable in new name\u001b[39;00m\n\u001b[1;32m     13\u001b[0m r3 \u001b[38;5;241m=\u001b[39m b3 \u001b[38;5;241m+\u001b[39m b2 \u001b[38;5;241m+\u001b[39m \u001b[38;5;124m'\u001b[39m\u001b[38;5;124mG\u001b[39m\u001b[38;5;124m'\u001b[39m \u001b[38;5;66;03m#reassign variable name\u001b[39;00m\n",
      "\u001b[0;31mTypeError\u001b[0m: 'str' object does not support item assignment"
     ]
    }
   ],
   "source": [
    "#working with a dna sequence\n",
    "\n",
    "seq = 'ACCTGCATGC' #strings are immutable objects\n",
    "b1 = seq[0]\n",
    "b2 = seq[1]\n",
    "b3 = seq[2]\n",
    "first3 = b1 + b2 + b3\n",
    "print(first3)\n",
    "r3 = b3 + b2 + b1\n",
    "print(r3)\n",
    "r3[2] = 'G' #can't modify the string!\n",
    "old_r3 = r3 #save current variable in new name\n",
    "r3 = b3 + b2 + 'G' #reassign variable name\n",
    "print(old_r3, r3)"
   ]
  },
  {
   "cell_type": "code",
   "execution_count": 57,
   "id": "0be7daa9-578c-4a61-a36a-8ec27a1f76cc",
   "metadata": {},
   "outputs": [
    {
     "name": "stdout",
     "output_type": "stream",
     "text": [
      "A\n",
      "C\n",
      "C\n",
      "T\n",
      "G\n",
      "C\n",
      "A\n",
      "T\n",
      "G\n",
      "C\n",
      "Before\n",
      "Loop: A\n",
      "Loop: C\n",
      "Loop: C\n",
      "Loop: T\n",
      "Loop: G\n",
      "Loop: C\n",
      "Loop: A\n",
      "Loop: T\n",
      "Loop: G\n",
      "Loop: C\n",
      "After\n",
      "10\n"
     ]
    }
   ],
   "source": [
    "#reversing: loops\n",
    "\n",
    "for s in seq: #This constructs the loop and says we want to work on each element in seq. This line must end with a colon.\n",
    "    #this also created a new variable, s, which is called a loop variable because it changes on each loop\n",
    "    print(s) #indent the code you want to repeat\n",
    "print('Before')\n",
    "for b in seq:\n",
    "    print('Loop:', b)\n",
    "print('After')\n",
    "count = 0\n",
    "for s in seq:\n",
    "    count = count + 1\n",
    "print(count)"
   ]
  },
  {
   "cell_type": "code",
   "execution_count": 59,
   "id": "db077ddb-1e1f-4754-b61e-4bc2e72050b7",
   "metadata": {},
   "outputs": [
    {
     "name": "stdout",
     "output_type": "stream",
     "text": [
      "ACCTGCATGC\n",
      "CGTACGTCCA\n"
     ]
    }
   ],
   "source": [
    "#exercise: reverse\n",
    "\n",
    "print(seq)\n",
    "count = -0\n",
    "rev = \"\"\n",
    "for s in seq:\n",
    "    count = count - 1\n",
    "    rev = rev + seq[count]\n",
    "print(rev)\n",
    "\n",
    "# a better way:\n",
    "rev = ''\n",
    "for s in seq:\n",
    "    rev = s+rev #the order of s+rev (not rev+s) reverses the string.\n",
    "print(rev)"
   ]
  },
  {
   "cell_type": "code",
   "execution_count": 64,
   "id": "720d7a1e-e040-4280-8cee-5884d6bb13e2",
   "metadata": {},
   "outputs": [
    {
     "name": "stdout",
     "output_type": "stream",
     "text": [
      "{'key': 'value', 'second_key': 2, 3: 'third_value'}\n",
      "{'A': 2, 'C': 4, 'G': 2, 'T': 2}\n",
      "I have 2 As\n",
      "Now I have 3 As\n",
      "I have 4 Cs\n",
      "A\n",
      "C\n",
      "G\n",
      "T\n",
      "A 3\n",
      "C 4\n",
      "G 2\n",
      "T 2\n"
     ]
    }
   ],
   "source": [
    "#dictionaries: lookups\n",
    "\n",
    "my_dictionary = {\"key\": \"value\", \"second_key\": 2, 3: \"third_value\"}\n",
    "print(my_dictionary)\n",
    "counts = {'A': 2, 'C': 4, 'G': 2, 'T': 2}\n",
    "print(counts)\n",
    "print('I have', counts['A'], 'As')\n",
    "counts['A'] = 3\n",
    "print('Now I have', counts['A'], 'As')\n",
    "base = 'C'\n",
    "print('I have', counts[base], base + 's')\n",
    "for c in counts:\n",
    "    print(c) # loop over a dictionary: the loop variable is set to each key. the loop doesn't automatically give the value.\n",
    "for b in counts:\n",
    "    qty = counts[b]\n",
    "    print(b, qty)"
   ]
  },
  {
   "cell_type": "code",
   "execution_count": 77,
   "id": "891494cd-000c-4b53-95f9-ec106ec6946f",
   "metadata": {},
   "outputs": [
    {
     "name": "stdout",
     "output_type": "stream",
     "text": [
      "ACCTGCATGC\n",
      "{'A': 2, 'C': 4, 'G': 2, 'T': 2}\n",
      "T\n",
      "{'A': 'T', 'T': 'A', 'C': 'G', 'G': 'C'}\n",
      "ACCTGCATGC CGTACGTCCA GCATGCAGGT\n"
     ]
    }
   ],
   "source": [
    "#exercise\n",
    "\n",
    "print(seq)\n",
    "bases = {'A': 0, 'C': 0, 'G': 0, 'T': 0}\n",
    "for s in seq:\n",
    "    if s == 'C':\n",
    "        bases['C'] = bases['C'] + 1\n",
    "    elif s == 'A':\n",
    "        bases['A'] = bases['A'] + 1\n",
    "    elif s == 'T':\n",
    "        bases['T'] = bases['T'] + 1\n",
    "    elif s == 'G':\n",
    "        bases['G'] = bases['G'] + 1\n",
    "print(bases)\n",
    "\n",
    "#actual exercise\n",
    "sum(bases.values()) #a good answer lol\n",
    "\n",
    "comps = {'A':'T', 'T':'A'}\n",
    "print(comps['A'])\n",
    "comps['C'] = 'G' #adds new members\n",
    "comps['G'] = 'C'\n",
    "print(comps)\n",
    "\n",
    "revcomp = ''\n",
    "# starting with rev, the already reversed sequence\n",
    "for s in rev:\n",
    "    c = comps[s]\n",
    "    revcomp = revcomp + c\n",
    "print(seq, rev, revcomp)"
   ]
  },
  {
   "cell_type": "code",
   "execution_count": 80,
   "id": "46ede6eb-dff7-405f-bf9a-7cf24b22b91c",
   "metadata": {},
   "outputs": [
    {
     "name": "stdout",
     "output_type": "stream",
     "text": [
      "['ACCTGCATGC', 'CGTACGTCCA', 'GCATGCAGGT'] <class 'list'>\n",
      "ACCTGCATGC\n",
      "CGTACGTCCA\n",
      "GCATGCAGGT\n",
      "['AAAAAGGGGG', 'CGTACGTCCA', 'GCATGCAGGT']\n",
      "['CGTACGTCCA', 'GCATGCAGGT']\n"
     ]
    }
   ],
   "source": [
    "#lists\n",
    "\n",
    "seqs = [seq, rev, revcomp]\n",
    "print(seqs, type(seqs))\n",
    "for s in seqs: #iterates through list\n",
    "    print(s)\n",
    "#lists are mutable\n",
    "seqs[0] = 'AAAAAGGGGG'\n",
    "print(seqs)\n",
    "del seqs[0]\n",
    "print(seqs)"
   ]
  },
  {
   "cell_type": "code",
   "execution_count": 85,
   "id": "17a355be-76d5-427c-aec3-5a38cd545937",
   "metadata": {},
   "outputs": [
    {
     "name": "stdout",
     "output_type": "stream",
     "text": [
      "Sequence contains GC\n",
      "done\n",
      "GC-content percentage: 60.0 %\n",
      "High\n",
      "High\n"
     ]
    }
   ],
   "source": [
    "#making choices/conditionals\n",
    "\n",
    "if 'GC' in seq:\n",
    "    print('Sequence contains GC')\n",
    "else:\n",
    "    print('Sequence does not contain GC')\n",
    "print('done')\n",
    "\n",
    "gc = 0\n",
    "atgc = 0\n",
    "for s in seq:\n",
    "    if s == 'G' or s == 'C': # is equal to\n",
    "        gc = gc + 1\n",
    "    atgc = atgc + 1\n",
    "percent = (gc * 100) / atgc\n",
    "print('GC-content percentage:', percent, '%')\n",
    "\n",
    "if percent < 35:\n",
    "    print('Low')\n",
    "else:\n",
    "    if percent < 56:\n",
    "        print('Normal')\n",
    "    else:\n",
    "        print('High')\n",
    "        \n",
    "#using elif (shorter code)\n",
    "\n",
    "if percent < 35:\n",
    "    print('Low')\n",
    "elif percent < 56:\n",
    "    print('Normal')\n",
    "else:\n",
    "    print('High')"
   ]
  },
  {
   "cell_type": "code",
   "execution_count": 94,
   "id": "258daa34-a855-44d8-8d12-f7bf8ee5b757",
   "metadata": {},
   "outputs": [
    {
     "name": "stdout",
     "output_type": "stream",
     "text": [
      "10\n",
      "4 15\n",
      "[2, 3, 4, 7, 8]\n",
      "Help on built-in function sorted in module builtins:\n",
      "\n",
      "sorted(iterable, /, *, key=None, reverse=False)\n",
      "    Return a new list containing all items from the iterable in ascending order.\n",
      "    \n",
      "    A custom key function can be supplied to customize the sort order, and the\n",
      "    reverse flag can be set to request the result in descending order.\n",
      "\n",
      "['rna', 'dna', 'protein']\n"
     ]
    }
   ],
   "source": [
    "#functions\n",
    "\n",
    "print(len(seq))\n",
    "print(len(comps), len(seqs))\n",
    "x = [7,3,2,8,4]\n",
    "y = sorted(x)\n",
    "print(y)\n",
    "help(sorted)\n",
    "#https://docs.python.org/3/library/functions.html\n",
    "seqs = 'rna dna protein'\n",
    "seqs_list = seqs.split() #methods are functions that are part of different data types\n",
    "print(seqs_list)\n",
    "#help(str)"
   ]
  },
  {
   "cell_type": "code",
   "execution_count": 114,
   "id": "e9fb6b05-783c-4123-a2a7-786278f1b3e7",
   "metadata": {},
   "outputs": [
    {
     "name": "stdout",
     "output_type": "stream",
     "text": [
      "['THYMINE', 'GUANINE', 'CYTOSINE', 'ADENINE']\n",
      "T\n",
      "G\n",
      "C\n",
      "A\n"
     ]
    }
   ],
   "source": [
    "#function exercise\n",
    "\n",
    "bases = 'adenine cytosine guanine thymine'\n",
    "bases = sorted(bases.upper().rsplit(sep=' '), reverse=True) \n",
    "print(bases)\n",
    "for b in bases:\n",
    "    print(b[0])"
   ]
  },
  {
   "cell_type": "code",
   "execution_count": 118,
   "id": "6adf3d25-f230-492e-9d34-ae6d1637b51c",
   "metadata": {},
   "outputs": [
    {
     "name": "stdout",
     "output_type": "stream",
     "text": [
      "200\n",
      "Help on function double in module __main__:\n",
      "\n",
      "double(x)\n",
      "    takes a value and doubles it\n",
      "\n"
     ]
    }
   ],
   "source": [
    "#writing functions\n",
    "\n",
    "def double(x): #def: a keyword meaning we define a function. the arguments \n",
    "    \"takes a value and doubles it\" #the docstring describing the function\n",
    "    result = x * 2 # the x here is nice because it won't conflict with other variables named x, because it's a function variable.\n",
    "    return result #returns values from function\n",
    "doubled_value = double(100)\n",
    "print(doubled_value)\n",
    "help(double)"
   ]
  },
  {
   "cell_type": "code",
   "execution_count": 135,
   "id": "079e3af6-962d-44f5-b114-609af7c38b62",
   "metadata": {},
   "outputs": [
    {
     "name": "stdout",
     "output_type": "stream",
     "text": [
      "GTCA\n",
      "ACCTGCATGC\n",
      "CGTACGTCCA\n",
      "ACCTGCATGC\n",
      "TGGACGTACG\n"
     ]
    },
    {
     "data": {
      "text/plain": [
       "'TTGG'"
      ]
     },
     "execution_count": 135,
     "metadata": {},
     "output_type": "execute_result"
    }
   ],
   "source": [
    "#reverse complementing\n",
    "\n",
    "def reverse(seq):\n",
    "    \"Returns the reverse of a sequence\"\n",
    "    rev = ''\n",
    "    for s in seq:\n",
    "        rev = s + rev #the order of combination!\n",
    "    return rev\n",
    "print(reverse('ACTG'))\n",
    "print(seq)\n",
    "print(reverse(seq))\n",
    "reverse(reverse(seq)) == seq #check: does double reversing give initial sequence?\n",
    "\n",
    "def complement(seq):\n",
    "    \"Switches all A and T characters and all G and C characters.\"\n",
    "    comp = ''\n",
    "    for s in seq:\n",
    "        c = comps[s]\n",
    "        comp = comp + c\n",
    "    return comp\n",
    "print(seq)\n",
    "print(complement(seq))\n",
    "\n",
    "#drawbacks: if we run without assigning comps, the function will fail\n",
    "# if we run comps with something unexpected set to comps, the function will give a wrong answer\n",
    "#we can't look at this function independently and know what it's going to do because we don't know what complements is\n",
    "\n",
    "def complement(seq):\n",
    "    \"Switches all A and T characters and all G and C characters.\"\n",
    "    comps = {'A': 'T', 'C': 'G', 'T': 'A', 'G': 'C'}\n",
    "    comp = ''\n",
    "    for s in seq:\n",
    "        c = comps[s]\n",
    "        comp = comp + c\n",
    "    return comp\n",
    "\n",
    "complement('ACC')\n",
    "\n",
    "#combine complement and reverse\n",
    "\n",
    "def reverse_complement(seq):\n",
    "    \"Reverses the complement of a sequence\"\n",
    "    return reverse(complement(seq))\n",
    "\n",
    "reverse_complement('CCAA')"
   ]
  },
  {
   "cell_type": "code",
   "execution_count": 136,
   "id": "b5235ab9-1ded-4129-aa2b-c6648ef43ef2",
   "metadata": {},
   "outputs": [
    {
     "data": {
      "text/plain": [
       "'TTGG'"
      ]
     },
     "execution_count": 136,
     "metadata": {},
     "output_type": "execute_result"
    }
   ],
   "source": [
    "#exercise: reverse function\n",
    "\n",
    "def reverse(seq):\n",
    "    \"Returns the reverse of a sequence\"\n",
    "    rev = ''\n",
    "    for s in seq:\n",
    "        rev=seq[::-1]\n",
    "    return rev\n",
    "\n",
    "reverse_complement(\"CCAA\")"
   ]
  },
  {
   "cell_type": "code",
   "execution_count": null,
   "id": "b1bd0ba2-a138-4fb5-a756-296f045756be",
   "metadata": {},
   "outputs": [],
   "source": []
  }
 ],
 "metadata": {
  "kernelspec": {
   "display_name": "Python 3 (ipykernel)",
   "language": "python",
   "name": "python3"
  },
  "language_info": {
   "codemirror_mode": {
    "name": "ipython",
    "version": 3
   },
   "file_extension": ".py",
   "mimetype": "text/x-python",
   "name": "python",
   "nbconvert_exporter": "python",
   "pygments_lexer": "ipython3",
   "version": "3.9.12"
  }
 },
 "nbformat": 4,
 "nbformat_minor": 5
}
